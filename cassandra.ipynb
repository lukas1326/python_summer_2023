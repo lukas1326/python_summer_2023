{
 "cells": [
  {
   "cell_type": "code",
   "execution_count": 1,
   "metadata": {},
   "outputs": [],
   "source": [
    "from cassandra.cluster import Cluster\n",
    "import uuid"
   ]
  },
  {
   "cell_type": "code",
   "execution_count": null,
   "metadata": {},
   "outputs": [],
   "source": [
    "# Cassandra:\n",
    "\n",
    "# Data Model Creation:\n",
    "# Design a data model for an e-commerce platform to handle products, orders, and user information.\n",
    "# Define appropriate column families and primary keys to ensure efficient querying.\n",
    "\n",
    "# Data Insertion and Retrieval:\n",
    "# Insert sample data into the Cassandra database, including user information and product details.\n",
    "# Retrieve a user's order history using CQL (Cassandra Query Language).\n",
    "\n",
    "# Time-Series Data:\n",
    "# Design a schema to handle time-series data, such as IoT sensor readings.\n",
    "# Insert and retrieve time-series data efficiently, using appropriate time-based partitioning."
   ]
  },
  {
   "cell_type": "code",
   "execution_count": 2,
   "metadata": {},
   "outputs": [
    {
     "data": {
      "text/plain": [
       "UUID('2be68de2-a20b-4e8e-94a5-b9a47ac1f2df')"
      ]
     },
     "execution_count": 2,
     "metadata": {},
     "output_type": "execute_result"
    }
   ],
   "source": [
    "uuid.uuid4()"
   ]
  },
  {
   "cell_type": "code",
   "execution_count": 15,
   "metadata": {},
   "outputs": [
    {
     "data": {
      "text/plain": [
       "<cassandra.cluster.ResultSet at 0x7f701bdb9390>"
      ]
     },
     "execution_count": 15,
     "metadata": {},
     "output_type": "execute_result"
    }
   ],
   "source": [
    "cluster = Cluster([\"127.0.0.1\"],port=9042)\n",
    "session = cluster.connect()\n",
    "create_keyspace_query = \"\"\"\n",
    "    CREATE KEYSPACE IF NOT EXISTS orders_keyspace\n",
    "    WITH replication = {'class':'SimpleStrategy', 'replication_factor':3}\n",
    "\"\"\"\n",
    "\n",
    "session.execute(create_keyspace_query)"
   ]
  },
  {
   "cell_type": "code",
   "execution_count": 16,
   "metadata": {},
   "outputs": [
    {
     "data": {
      "text/plain": [
       "<cassandra.cluster.ResultSet at 0x7f7018ac45d0>"
      ]
     },
     "execution_count": 16,
     "metadata": {},
     "output_type": "execute_result"
    }
   ],
   "source": [
    "session.execute(\"USE orders_keyspace\")\n",
    "session.execute(\"\"\" CREATE TABLE IF NOT EXISTS users (user_id UUID PRIMARY KEY, name TEXT, phone TEXT ) \"\"\")\n"
   ]
  },
  {
   "cell_type": "code",
   "execution_count": 21,
   "metadata": {},
   "outputs": [
    {
     "data": {
      "text/plain": [
       "<cassandra.cluster.ResultSet at 0x7f7018b63910>"
      ]
     },
     "execution_count": 21,
     "metadata": {},
     "output_type": "execute_result"
    }
   ],
   "source": [
    "session.execute(\"\"\" CREATE TABLE IF NOT EXISTS products (product_id UUID PRIMARY KEY, product_name TEXT, price INT ) \"\"\")\n"
   ]
  },
  {
   "cell_type": "code",
   "execution_count": 33,
   "metadata": {},
   "outputs": [
    {
     "data": {
      "text/plain": [
       "<cassandra.cluster.ResultSet at 0x7f70440ecb50>"
      ]
     },
     "execution_count": 33,
     "metadata": {},
     "output_type": "execute_result"
    }
   ],
   "source": [
    "session.execute(\"\"\" CREATE TABLE IF NOT EXISTS order_by_user (order_id UUID, product_id TEXT, user_id TEXT,quantity INT, order_date date, PRIMARY KEY (user_id,product_id) ) \"\"\")"
   ]
  },
  {
   "cell_type": "code",
   "execution_count": 31,
   "metadata": {},
   "outputs": [],
   "source": [
    "insertion_query_users = \"\"\"INSERT INTO users (user_id,name,phone) VALUES (?,?,?)\"\"\"\n",
    "insertion_query_products = \"\"\"INSERT INTO users (product_id,product_name,price) VALUES (?,?,?)\"\"\"\n",
    "insertion_query_order_by_user = \"\"\"INSERT INTO order_by_user (order_id,product_id,user_id, quantity,order_date) VALUES (?,?,?,?,?)\"\"\"\n"
   ]
  },
  {
   "cell_type": "code",
   "execution_count": 34,
   "metadata": {},
   "outputs": [
    {
     "ename": "InvalidRequest",
     "evalue": "Error from server: code=2200 [Invalid query] message=\"Undefined column name product_id in table orders_keyspace.users\"",
     "output_type": "error",
     "traceback": [
      "\u001b[0;31m---------------------------------------------------------------------------\u001b[0m",
      "\u001b[0;31mInvalidRequest\u001b[0m                            Traceback (most recent call last)",
      "Cell \u001b[0;32mIn[34], line 2\u001b[0m\n\u001b[1;32m      1\u001b[0m prepared_stmt_users \u001b[39m=\u001b[39m session\u001b[39m.\u001b[39mprepare(insertion_query_users)\n\u001b[0;32m----> 2\u001b[0m prepared_stmt_products \u001b[39m=\u001b[39m session\u001b[39m.\u001b[39;49mprepare(insertion_query_products)\n\u001b[1;32m      3\u001b[0m prepared_stmt_order_by_user \u001b[39m=\u001b[39m session\u001b[39m.\u001b[39mprepare(insertion_query_order_by_user)\n",
      "File \u001b[0;32m~/dev/python_summer2023/python_summer_2023/.venv/lib/python3.11/site-packages/cassandra/cluster.py:3091\u001b[0m, in \u001b[0;36mcassandra.cluster.Session.prepare\u001b[0;34m()\u001b[0m\n",
      "File \u001b[0;32m~/dev/python_summer2023/python_summer_2023/.venv/lib/python3.11/site-packages/cassandra/cluster.py:3088\u001b[0m, in \u001b[0;36mcassandra.cluster.Session.prepare\u001b[0;34m()\u001b[0m\n",
      "File \u001b[0;32m~/dev/python_summer2023/python_summer_2023/.venv/lib/python3.11/site-packages/cassandra/cluster.py:4920\u001b[0m, in \u001b[0;36mcassandra.cluster.ResponseFuture.result\u001b[0;34m()\u001b[0m\n",
      "\u001b[0;31mInvalidRequest\u001b[0m: Error from server: code=2200 [Invalid query] message=\"Undefined column name product_id in table orders_keyspace.users\""
     ]
    }
   ],
   "source": [
    "prepared_stmt_users = session.prepare(insertion_query_users)\n",
    "prepared_stmt_products = session.prepare(insertion_query_products)\n",
    "prepared_stmt_order_by_user = session.prepare(insertion_query_order_by_user)"
   ]
  },
  {
   "cell_type": "code",
   "execution_count": 10,
   "metadata": {},
   "outputs": [
    {
     "name": "stdout",
     "output_type": "stream",
     "text": [
      "a3757217-b689-476d-9059-9e207e97f89d Alice 30\n",
      "1ae4fe2f-b4a2-45f6-a7f8-af49da554d32 Bob 28\n"
     ]
    }
   ],
   "source": [
    "result = session.execute(\"\"\"SELECT * FROM users\"\"\")\n",
    "for row in result:\n",
    "    print(row.id,row.name,row.age)"
   ]
  }
 ],
 "metadata": {
  "kernelspec": {
   "display_name": ".venv",
   "language": "python",
   "name": "python3"
  },
  "language_info": {
   "codemirror_mode": {
    "name": "ipython",
    "version": 3
   },
   "file_extension": ".py",
   "mimetype": "text/x-python",
   "name": "python",
   "nbconvert_exporter": "python",
   "pygments_lexer": "ipython3",
   "version": "3.11.0"
  },
  "orig_nbformat": 4
 },
 "nbformat": 4,
 "nbformat_minor": 2
}
